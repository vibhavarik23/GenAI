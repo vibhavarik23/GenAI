{
 "cells": [
  {
   "cell_type": "markdown",
   "id": "0670a46f",
   "metadata": {},
   "source": [
    "#### Simple Chatbot with Transformer\n",
    "\n",
    "Simple chatbot using Transformer library from Hugging Fase."
   ]
  },
  {
   "cell_type": "code",
   "execution_count": 4,
   "id": "309b79f7",
   "metadata": {},
   "outputs": [],
   "source": [
    "from transformers import AutoTokenizer, AutoModelForSeq2SeqLM\n",
    "\n",
    "# Selecting the model.\n",
    "model_name=r\"facebook/blenderbot-400M-distill\"\n",
    "# Load the model and tokenizer\n",
    "model=AutoModelForSeq2SeqLM.from_pretrained(model_name)\n",
    "tokenizer=AutoTokenizer.from_pretrained(model_name)"
   ]
  },
  {
   "cell_type": "code",
   "execution_count": 6,
   "id": "b6ee8967",
   "metadata": {},
   "outputs": [
    {
     "name": "stdout",
     "output_type": "stream",
     "text": [
      "You : hi\n",
      "Chatbot : Hi! How are you? I just got back from walking my dog. Do you have any pets?\n",
      "You : no, I don't have any animal.\n",
      "Chatbot : That's too bad. Animals are great companions. What do you do for fun?\n",
      "You : nothing, watching web series, reels and wondering outside.\n",
      "Chatbot : What do you like to do in your spare time? I like to watch movies and play video games.\n",
      "You : bye\n",
      "Chatbot : Good bye!\n"
     ]
    }
   ],
   "source": [
    "def chat_with_bot():\n",
    "    while True:\n",
    "        # get user input\n",
    "        input_text=input(\"You : \")\n",
    "        #print(f\"You : {input_text}\")\n",
    "\n",
    "        # Exit condition\n",
    "        if input_text.lower() in [\"quit\", \"bye\", \"exit\"]:\n",
    "            print(\"Chatbot : Good bye!\")\n",
    "            break\n",
    "        \n",
    "        # Tokenize input\n",
    "        input_tokens=tokenizer.encode(input_text, return_tensors=\"pt\")\n",
    "        # generate response\n",
    "        output=model.generate(input_tokens, max_new_tokens=150)\n",
    "        response=tokenizer.decode(output[0], skip_special_tokens=True).strip()\n",
    "\n",
    "        # Display bot's response\n",
    "        print(f\"Chatbot : {response}\")\n",
    "\n",
    "    # Start Chatting\n",
    "chat_with_bot()\n"
   ]
  },
  {
   "cell_type": "code",
   "execution_count": null,
   "id": "b05f82ec",
   "metadata": {},
   "outputs": [],
   "source": []
  }
 ],
 "metadata": {
  "kernelspec": {
   "display_name": "Python 3 (ipykernel)",
   "language": "python",
   "name": "python3"
  },
  "language_info": {
   "codemirror_mode": {
    "name": "ipython",
    "version": 3
   },
   "file_extension": ".py",
   "mimetype": "text/x-python",
   "name": "python",
   "nbconvert_exporter": "python",
   "pygments_lexer": "ipython3",
   "version": "3.11.4"
  }
 },
 "nbformat": 4,
 "nbformat_minor": 5
}
